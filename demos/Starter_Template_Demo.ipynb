{
 "cells": [
  {
   "attachments": {},
   "cell_type": "markdown",
   "metadata": {},
   "source": [
    "# Starter Demo\n",
    "\n",
    "Use this as a starting place for any demos created for Transformer Lens. Environmental variables have been setup to ensure that your demo will run in GitHub CI, and a number of specific instructions have been specified to make your life easier with getting your demo into the repo."
   ]
  },
  {
   "attachments": {},
   "cell_type": "markdown",
   "metadata": {},
   "source": [
    "## Setup"
   ]
  },
  {
   "cell_type": "code",
   "execution_count": null,
   "metadata": {},
   "outputs": [],
   "source": [
    "import os\n",
    "\n",
    "IN_COLAB = 'google.colab' in str(get_ipython())\n",
    "# Any parts of your notebook that may break github CI should use this variable to either be skipped, or do something different\n",
    "# e.g. Function calls that inadvertently call `npm i` can cause GitHub CI timeout to be hit, and should thus be skipped\n",
    "# e.g. Using a larger more accurate modal can cause the process to be killed by GitHub due to memory constraints. \n",
    "#      Models should thus be simplified in github to avoid these CI issues\n",
    "IN_GITHUB = os.getenv(\"GITHUB_ACTIONS\") == \"true\"\n",
    "DEBUG_MODE = False\n",
    "# This can be used as a general flag to allow people to skip more time intensive functions\n",
    "DO_SLOW_RUNS = not IN_GITHUB\n",
    "# Use this when running through epochs. The first number can be changed to whatever is required. \n",
    "# The second should stay really small to avoid GitHub CI from needlessly running cycles.\n",
    "EPOCHS_SIZE = 4000 if not IN_GITHUB else 25\n",
    "\n",
    "if IN_COLAB or IN_GITHUB:\n",
    "    # Install any dependencies needed for CI/Colab here\n",
    "    %pip install git+https://github.com/neelnanda-io/TransformerLens.git\n",
    "    %pip install circuitsvis\n",
    "else:\n",
    "    # Run any development specific setup here"
   ]
  },
  {
   "cell_type": "code",
   "execution_count": null,
   "metadata": {},
   "outputs": [],
   "source": [
    "# Plotly needs a different renderer for VSCode/Notebooks vs Colab argh\n",
    "import plotly.io as pio\n",
    "if IN_COLAB or not DEBUG_MODE:\n",
    "    pio.renderers.default = \"colab\"\n",
    "else:\n",
    "    pio.renderers.default = \"notebook_connected\"\n",
    "print(f\"Using renderer: {pio.renderers.default}\")\n",
    "\n",
    "import circuitsvis as cv"
   ]
  },
  {
   "cell_type": "code",
   "execution_count": null,
   "metadata": {},
   "outputs": [],
   "source": [
    "# Import stuff\n",
    "import torch\n",
    "# Add all additional imports here"
   ]
  },
  {
   "cell_type": "code",
   "execution_count": null,
   "metadata": {},
   "outputs": [],
   "source": [
    "# This variable needs to be used instead of allowing the default\n",
    "# Any calls to .cuda() need to be .to(device) to allow for your notebook to be compatible with github CI\n",
    "device = \"cuda\" if torch.cuda.is_available() else \"cpu\""
   ]
  }
 ],
 "metadata": {
  "kernelspec": {
   "display_name": ".venv",
   "language": "python",
   "name": "python3"
  },
  "language_info": {
   "name": "python",
   "version": "3.8.10"
  },
  "orig_nbformat": 4
 },
 "nbformat": 4,
 "nbformat_minor": 2
}
